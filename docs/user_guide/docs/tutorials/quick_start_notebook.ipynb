{
 "cells": [
  {
   "cell_type": "markdown",
   "metadata": {},
   "source": [
    "# 🚀 Quick Start: Your First Locomotion Analysis\n",
    "\n",
    "**⏱️ Time:** 10 minutes | **📈 Level:** Beginner | **🎯 Goal:** Load data and create your first biomechanical plot\n",
    "\n",
    "---\n",
    "\n",
    "## **What you'll accomplish:**\n",
    "- Load biomechanical data in under 2 minutes\n",
    "- Create a professional joint angle plot\n",
    "- Understand basic data structure\n",
    "- Get your first \"success\" moment with real data\n",
    "\n",
    "**💡 Tip:** Run each cell by pressing `Shift + Enter` or clicking the ▶️ button"
   ]
  },
  {
   "cell_type": "markdown",
   "metadata": {},
   "source": [
    "## **Step 1: Environment Setup & Verification** (2 minutes)\n",
    "\n",
    "First, let's verify your environment is ready and import the necessary libraries:"
   ]
  },
  {
   "cell_type": "code",
   "execution_count": null,
   "metadata": {},
   "outputs": [],
   "source": [
    "# Import required libraries\n",
    "import pandas as pd\n",
    "import numpy as np\n",
    "import matplotlib.pyplot as plt\n",
    "import os\n",
    "from pathlib import Path\n",
    "\n",
    "# Set up inline plotting for Jupyter\n",
    "%matplotlib inline\n",
    "\n",
    "# Configure matplotlib for better plots\n",
    "plt.rcParams['figure.figsize'] = (10, 6)\n",
    "plt.rcParams['font.size'] = 12\n",
    "\n",
    "print(\"✅ All libraries imported successfully!\")\n",
    "print(f\"Current directory: {os.getcwd()}\")\n",
    "print(f\"Python version: {os.sys.version}\")"
   ]
  },
  {
   "cell_type": "markdown",
   "metadata": {},
   "source": [
    "### **Verify Data Files**\n",
    "\n",
    "Let's check if your sample data files are available:"
   ]
  },
  {
   "cell_type": "code",
   "execution_count": null,
   "metadata": {},
   "outputs": [],
   "source": [
    "# Check for required data files\n",
    "required_files = ['test_files/locomotion_data.csv', 'test_files/task_info.csv']\n",
    "\n",
    "print(\"📁 Data File Check:\")\n",
    "print(\"-\" * 25)\n",
    "\n",
    "all_files_found = True\n",
    "for file in required_files:\n",
    "    if os.path.exists(file):\n",
    "        file_size = os.path.getsize(file)\n",
    "        print(f\"✅ {file} (Size: {file_size} bytes)\")\n",
    "    else:\n",
    "        print(f\"❌ {file} - NOT FOUND\")\n",
    "        all_files_found = False\n",
    "\n",
    "if all_files_found:\n",
    "    print(\"\\n🎉 All data files found! Ready to proceed.\")\n",
    "else:\n",
    "    print(\"\\n⚠️  Some files are missing. Please ensure the test_files/ directory contains the sample data.\")\n",
    "    print(\"   You can download them from the tutorial repository.\")"
   ]
  },
  {
   "cell_type": "markdown",
   "metadata": {},
   "source": [
    "## **Step 2: Load and Explore Data** (3 minutes)\n",
    "\n",
    "Now let's load the biomechanical data and understand its structure:"
   ]
  },
  {
   "cell_type": "code",
   "execution_count": null,
   "metadata": {},
   "outputs": [],
   "source": [
    "# Load the biomechanical data\n",
    "try:\n",
    "    locomotion_data = pd.read_csv('test_files/locomotion_data.csv')\n",
    "    task_info = pd.read_csv('test_files/task_info.csv')\n",
    "    \n",
    "    print(\"🔍 Data Overview:\")\n",
    "    print(f\"Locomotion data: {len(locomotion_data)} measurements\")\n",
    "    print(f\"Task info: {len(task_info)} different tasks\")\n",
    "    \n",
    "    print(\"\\n✅ Data loaded successfully!\")\n",
    "    \n",
    "except FileNotFoundError as e:\n",
    "    print(f\"❌ Error loading data: {e}\")\n",
    "    print(\"Please check that the data files are in the test_files/ directory\")"
   ]
  },
  {
   "cell_type": "markdown",
   "metadata": {},
   "source": [
    "### **Explore the Data Structure**\n",
    "\n",
    "Let's look at what biomechanical data we have:"
   ]
  },
  {
   "cell_type": "code",
   "execution_count": null,
   "metadata": {},
   "outputs": [],
   "source": [
    "# Display the first few rows of locomotion data\n",
    "print(\"📊 Locomotion Data (first 3 rows):\")\n",
    "print(\"=\" * 50)\n",
    "display(locomotion_data.head(3))\n",
    "\n",
    "print(\"\\n🏃 Available Tasks:\")\n",
    "print(\"=\" * 20)\n",
    "display(task_info[['task_name', 'walking_speed_m_s', 'ground_inclination_deg']])"
   ]
  },
  {
   "cell_type": "markdown",
   "metadata": {},
   "source": [
    "### **Understanding Your Data**\n",
    "\n",
    "Let's understand what each column means:"
   ]
  },
  {
   "cell_type": "code",
   "execution_count": null,
   "metadata": {},
   "outputs": [],
   "source": [
    "# Data dictionary\n",
    "data_dictionary = {\n",
    "    'time_s': 'Time stamps of measurements (seconds)',\n",
    "    'knee_flexion_angle_rad': 'Knee joint angle in radians (+ = flexion)',\n",
    "    'hip_flexion_angle_rad': 'Hip joint angle in radians (+ = flexion)', \n",
    "    'ankle_flexion_angle_rad': 'Ankle joint angle in radians (+ = dorsiflexion)',\n",
    "    'step_id': 'Unique identifier for each gait cycle',\n",
    "    'task_name': 'Type of walking task performed'\n",
    "}\n",
    "\n",
    "print(\"📚 Data Dictionary:\")\n",
    "print(\"=\" * 30)\n",
    "for column, description in data_dictionary.items():\n",
    "    if column in locomotion_data.columns or column in task_info.columns:\n",
    "        print(f\"• {column}: {description}\")\n",
    "\n",
    "# Show data ranges\n",
    "print(\"\\n📈 Data Ranges:\")\n",
    "print(\"=\" * 20)\n",
    "angle_columns = [col for col in locomotion_data.columns if 'angle_rad' in col]\n",
    "for col in angle_columns:\n",
    "    min_deg = np.degrees(locomotion_data[col].min())\n",
    "    max_deg = np.degrees(locomotion_data[col].max())\n",
    "    joint = col.split('_')[0].title()\n",
    "    print(f\"• {joint}: {min_deg:.1f}° to {max_deg:.1f}°\")"
   ]
  },
  {
   "cell_type": "markdown",
   "metadata": {},
   "source": [
    "## **Step 3: Create Your First Biomechanical Plot** (4 minutes)\n",
    "\n",
    "Now for the exciting part - let's create a professional joint angle plot!"
   ]
  },
  {
   "cell_type": "code",
   "execution_count": null,
   "metadata": {},
   "outputs": [],
   "source": [
    "# Combine the datasets to get complete information\n",
    "combined_data = pd.merge(locomotion_data, task_info, \n",
    "                        on=['step_id', 'task_id', 'subject_id'], \n",
    "                        how='inner')\n",
    "\n",
    "print(f\"✅ Combined dataset: {len(combined_data)} records\")\n",
    "print(f\"Available tasks: {list(combined_data['task_name'].unique())}\")\n",
    "\n",
    "# Focus on incline walking for our first plot\n",
    "incline_data = combined_data[combined_data['task_name'] == 'incline_walking']\n",
    "print(f\"\\n🚶 Incline walking data: {len(incline_data)} measurements\")"
   ]
  },
  {
   "cell_type": "markdown",
   "metadata": {},
   "source": [
    "### **Create the Professional Plot**"
   ]
  },
  {
   "cell_type": "code",
   "execution_count": null,
   "metadata": {},
   "outputs": [],
   "source": [
    "# Create your first biomechanical plot\n",
    "plt.figure(figsize=(12, 8))\n",
    "\n",
    "# Convert angles to degrees for easier interpretation\n",
    "knee_angles_deg = np.degrees(incline_data['knee_flexion_angle_rad'])\n",
    "\n",
    "# Main plot\n",
    "plt.plot(incline_data['time_s'], knee_angles_deg, \n",
    "         'b-o', linewidth=3, markersize=8, alpha=0.8, \n",
    "         label='Knee Flexion Angle')\n",
    "\n",
    "# Customize the plot\n",
    "plt.xlabel('Time (seconds)', fontsize=14, fontweight='bold')\n",
    "plt.ylabel('Knee Flexion Angle (degrees)', fontsize=14, fontweight='bold')\n",
    "plt.title('Knee Angle During Incline Walking', fontsize=16, fontweight='bold', pad=20)\n",
    "plt.grid(True, alpha=0.3, linestyle='--')\n",
    "plt.legend(fontsize=12)\n",
    "\n",
    "# Add context information\n",
    "if len(incline_data) > 0:\n",
    "    speed = incline_data['walking_speed_m_s'].iloc[0]\n",
    "    incline = incline_data['ground_inclination_deg'].iloc[0]\n",
    "    \n",
    "    # Add info box\n",
    "    info_text = f'Walking Conditions:\\nSpeed: {speed} m/s\\nIncline: {incline}°'\n",
    "    plt.text(0.02, 0.98, info_text, \n",
    "             transform=plt.gca().transAxes, fontsize=11,\n",
    "             verticalalignment='top',\n",
    "             bbox=dict(boxstyle=\"round,pad=0.4\", \n",
    "                      facecolor=\"lightblue\", \n",
    "                      alpha=0.8,\n",
    "                      edgecolor='navy'))\n",
    "\n",
    "# Improve layout\n",
    "plt.tight_layout()\n",
    "\n",
    "# Save the plot\n",
    "plt.savefig('my_first_biomechanics_plot.png', dpi=300, bbox_inches='tight')\n",
    "\n",
    "# Show the plot\n",
    "plt.show()\n",
    "\n",
    "print(\"🎉 Success! Your plot has been created and saved as 'my_first_biomechanics_plot.png'\")"
   ]
  },
  {
   "cell_type": "markdown",
   "metadata": {},
   "source": [
    "### **✅ Checkpoint: Does Your Plot Look Good?**\n",
    "\n",
    "Your plot should show:\n",
    "- ✅ Knee angle changing over time in a smooth pattern\n",
    "- ✅ Blue line with circular markers\n",
    "- ✅ Clear labels and title\n",
    "- ✅ Information box showing walking conditions\n",
    "- ✅ Professional grid and formatting\n",
    "\n",
    "**🧠 What You're Seeing:** The cyclical pattern shows how the knee flexes and extends during walking. This is a fundamental measurement in gait analysis!"
   ]
  },
  {
   "cell_type": "markdown",
   "metadata": {},
   "source": [
    "## **Step 4: Quick Biomechanical Analysis** (1 minute)\n",
    "\n",
    "Let's extract some meaningful insights from your data:"
   ]
  },
  {
   "cell_type": "code",
   "execution_count": null,
   "metadata": {},
   "outputs": [],
   "source": [
    "# Biomechanical analysis\n",
    "print(\"📈 Quick Analysis Results:\")\n",
    "print(\"=\" * 40)\n",
    "\n",
    "if len(incline_data) > 0:\n",
    "    # Calculate key metrics\n",
    "    knee_angles = incline_data['knee_flexion_angle_rad']\n",
    "    \n",
    "    # Range of Motion (ROM)\n",
    "    rom_rad = knee_angles.max() - knee_angles.min()\n",
    "    rom_deg = np.degrees(rom_rad)\n",
    "    \n",
    "    # Peak flexion\n",
    "    peak_flexion_rad = knee_angles.max()\n",
    "    peak_flexion_deg = np.degrees(peak_flexion_rad)\n",
    "    \n",
    "    # Minimum flexion\n",
    "    min_flexion_rad = knee_angles.min()\n",
    "    min_flexion_deg = np.degrees(min_flexion_rad)\n",
    "    \n",
    "    # Mean flexion\n",
    "    mean_flexion_rad = knee_angles.mean()\n",
    "    mean_flexion_deg = np.degrees(mean_flexion_rad)\n",
    "    \n",
    "    # Display results\n",
    "    print(f\"🔹 Knee Range of Motion: {rom_deg:.1f}° ({rom_rad:.3f} radians)\")\n",
    "    print(f\"🔹 Peak Knee Flexion: {peak_flexion_deg:.1f}° ({peak_flexion_rad:.3f} radians)\")\n",
    "    print(f\"🔹 Minimum Knee Flexion: {min_flexion_deg:.1f}° ({min_flexion_rad:.3f} radians)\")\n",
    "    print(f\"🔹 Average Knee Flexion: {mean_flexion_deg:.1f}° ({mean_flexion_rad:.3f} radians)\")\n",
    "    \n",
    "    # Walking characteristics\n",
    "    speed = incline_data['walking_speed_m_s'].iloc[0]\n",
    "    incline = incline_data['ground_inclination_deg'].iloc[0]\n",
    "    \n",
    "    print(f\"\\n🚶 Walking Conditions:\")\n",
    "    print(f\"🔹 Speed: {speed} m/s\")\n",
    "    print(f\"🔹 Ground Incline: {incline}°\")\n",
    "    \n",
    "    # Clinical interpretation\n",
    "    print(f\"\\n🧠 Biomechanical Insight:\")\n",
    "    print(f\"This person's knee moved through {rom_deg:.1f}° during incline walking.\")\n",
    "    \n",
    "    # Provide context\n",
    "    if rom_deg > 50:\n",
    "        print(\"This indicates good knee mobility - excellent for walking function!\")\n",
    "    elif rom_deg > 30:\n",
    "        print(\"This shows normal knee mobility for walking.\")\n",
    "    else:\n",
    "        print(\"This shows limited knee mobility - may warrant further assessment.\")\n",
    "        \n",
    "    print(\"\\nTypical healthy adults show 50-70° knee ROM during walking.\")\n",
    "    \n",
    "else:\n",
    "    print(\"❌ No incline walking data available for analysis\")"
   ]
  },
  {
   "cell_type": "markdown",
   "metadata": {},
   "source": [
    "## **🎉 Congratulations! You Did It!**\n",
    "\n",
    "In just 10 minutes, you've successfully:\n",
    "\n",
    "### **✅ Technical Achievements:**\n",
    "- **Loaded real biomechanical data** from standardized locomotion datasets\n",
    "- **Created a professional joint angle plot** with proper labeling and context\n",
    "- **Calculated meaningful metrics** like range of motion and peak flexion\n",
    "- **Gained biomechanical insight** about healthy gait patterns\n",
    "\n",
    "### **🧠 Knowledge Gained:**\n",
    "- Understanding of biomechanical data structure\n",
    "- How joint angles change during walking\n",
    "- Clinical interpretation of range of motion\n",
    "- Professional data visualization techniques\n",
    "\n",
    "### **📁 Your Files:**\n",
    "You now have:\n",
    "- **`my_first_biomechanics_plot.png`** - Your professional plot ready for presentations\n",
    "- **This notebook** - Complete analysis workflow you can reuse\n",
    "- **Knowledge foundation** - Ready for more advanced tutorials"
   ]
  },
  {
   "cell_type": "markdown",
   "metadata": {},
   "source": [
    "## **🚀 Next Steps**\n",
    "\n",
    "Ready to dive deeper? Choose your learning path:\n",
    "\n",
    "### **🎯 Immediate Next Steps:**\n",
    "1. **[Basic Analysis Tutorial](basic_analysis_interactive.md)** - Learn to compare different walking tasks (30 min)\n",
    "2. **[Data Exploration Guide](data_exploration_interactive.md)** - Dive deeper into the dataset structure (15 min)\n",
    "3. **[Better Plots Tutorial](visualization_interactive.md)** - Create publication-ready figures (20 min)\n",
    "\n",
    "### **🛠️ Try It Yourself Challenges:**\n",
    "\n",
    "**Easy Challenge:** Modify the code below to show hip angle instead of knee angle:"
   ]
  },
  {
   "cell_type": "code",
   "execution_count": null,
   "metadata": {},
   "outputs": [],
   "source": [
    "# CHALLENGE: Modify this cell to plot hip_flexion_angle_rad instead of knee\n",
    "# Hint: Change 'knee_flexion_angle_rad' to 'hip_flexion_angle_rad'\n",
    "\n",
    "plt.figure(figsize=(10, 6))\n",
    "\n",
    "# YOUR CODE HERE - modify to show hip angle\n",
    "hip_angles_deg = np.degrees(incline_data['hip_flexion_angle_rad'])  # Modified this line\n",
    "\n",
    "plt.plot(incline_data['time_s'], hip_angles_deg, 'g-o', linewidth=2, markersize=6)\n",
    "plt.xlabel('Time (seconds)')\n",
    "plt.ylabel('Hip Flexion Angle (degrees)')  # Modified this line\n",
    "plt.title('Hip Angle During Incline Walking')  # Modified this line\n",
    "plt.grid(True, alpha=0.3)\n",
    "plt.show()\n",
    "\n",
    "# Calculate hip ROM\n",
    "hip_rom = np.degrees(incline_data['hip_flexion_angle_rad'].max() - incline_data['hip_flexion_angle_rad'].min())\n",
    "print(f\"Hip Range of Motion: {hip_rom:.1f}°\")"
   ]
  },
  {
   "cell_type": "markdown",
   "metadata": {},
   "source": [
    "**Medium Challenge:** Compare knee angles between level and incline walking:"
   ]
  },
  {
   "cell_type": "code",
   "execution_count": null,
   "metadata": {},
   "outputs": [],
   "source": [
    "# CHALLENGE: Create a comparison plot showing both level and incline walking\n",
    "# Hint: Filter for both tasks and plot them on the same axes with different colors\n",
    "\n",
    "plt.figure(figsize=(12, 8))\n",
    "\n",
    "# Get data for both tasks\n",
    "level_data = combined_data[combined_data['task_name'] == 'level_walking']\n",
    "incline_data = combined_data[combined_data['task_name'] == 'incline_walking']\n",
    "\n",
    "# Plot both tasks\n",
    "if len(level_data) > 0:\n",
    "    plt.plot(level_data['time_s'], np.degrees(level_data['knee_flexion_angle_rad']), \n",
    "             'b-o', linewidth=2, alpha=0.7, label='Level Walking')\n",
    "\n",
    "if len(incline_data) > 0:\n",
    "    plt.plot(incline_data['time_s'], np.degrees(incline_data['knee_flexion_angle_rad']), \n",
    "             'r-s', linewidth=2, alpha=0.7, label='Incline Walking')\n",
    "\n",
    "plt.xlabel('Time (seconds)', fontsize=12)\n",
    "plt.ylabel('Knee Flexion Angle (degrees)', fontsize=12)\n",
    "plt.title('Knee Angle Comparison: Level vs Incline Walking', fontsize=14)\n",
    "plt.grid(True, alpha=0.3)\n",
    "plt.legend(fontsize=12)\n",
    "plt.show()\n",
    "\n",
    "print(\"🎉 Great job! You've compared different walking conditions!\")"
   ]
  },
  {
   "cell_type": "markdown",
   "metadata": {},
   "source": [
    "## **📚 Additional Resources**\n",
    "\n",
    "### **Learning Materials:**\n",
    "- **[Biomechanics Glossary](../reference/biomechanics_glossary.md)** - Understand the terminology\n",
    "- **[Data Format Guide](../reference/data_formats.md)** - Learn about standardized formats\n",
    "- **[Troubleshooting Guide](troubleshooting_interactive.md)** - Solve common issues\n",
    "\n",
    "### **Community:**\n",
    "- **[GitHub Discussions](https://github.com/your-repo/discussions)** - Ask questions and share insights\n",
    "- **[Example Repository](https://github.com/your-repo/examples)** - See more analysis examples\n",
    "\n",
    "### **Share Your Success:**\n",
    "You've created your first biomechanical analysis! Consider sharing your plot or insights with the community.\n",
    "\n",
    "---\n",
    "\n",
    "**🔖 Save this notebook** - you can return here anytime to refresh the basics or help a colleague get started with biomechanical data analysis!\n",
    "\n",
    "**Total Time Invested:** 10 minutes  \n",
    "**Skills Gained:** Data loading, plotting, basic analysis  \n",
    "**Confidence Level:** Ready for intermediate tutorials! 🚀"
   ]
  }
 ],
 "metadata": {
  "kernelspec": {
   "display_name": "Python 3",
   "language": "python",
   "name": "python3"
  },
  "language_info": {
   "codemirror_mode": {
    "name": "ipython",
    "version": 3
   },
   "file_extension": ".py",
   "mimetype": "text/x-python",
   "name": "python",
   "nbconvert_exporter": "python",
   "pygments_lexer": "ipython3",
   "version": "3.8.5"
  }
 },
 "nbformat": 4,
 "nbformat_minor": 4
}